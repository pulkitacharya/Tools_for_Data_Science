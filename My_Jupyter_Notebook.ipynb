{
 "cells": [
  {
   "cell_type": "markdown",
   "id": "f143cd8d",
   "metadata": {},
   "source": [
    "# My Jupyter Notebook on IBM Watson Studio"
   ]
  },
  {
   "cell_type": "markdown",
   "id": "c41e8157",
   "metadata": {},
   "source": [
    "**Pulkit Acharya**\n",
    "\n",
    "Data Analyst"
   ]
  },
  {
   "cell_type": "markdown",
   "id": "f0a4ec32",
   "metadata": {},
   "source": [
    "*I am interested in data science because i like to play with data and gather useful insights out of it*"
   ]
  },
  {
   "cell_type": "markdown",
   "id": "38c075eb",
   "metadata": {},
   "source": [
    "### Code will print Hello User"
   ]
  },
  {
   "cell_type": "code",
   "execution_count": 2,
   "id": "61526aa8",
   "metadata": {},
   "outputs": [
    {
     "name": "stdout",
     "output_type": "stream",
     "text": [
      "Hello User\n"
     ]
    }
   ],
   "source": [
    "print(\"Hello User\")"
   ]
  },
  {
   "cell_type": "markdown",
   "id": "a0a3ae6c",
   "metadata": {},
   "source": [
    "***\n",
    "Hello, I am Pulkit Acharya\n",
    "***\n",
    "\n",
    "  - **My Gmail**: pulkitacharya1@gmail.com"
   ]
  }
 ],
 "metadata": {
  "kernelspec": {
   "display_name": "Python 3 (ipykernel)",
   "language": "python",
   "name": "python3"
  },
  "language_info": {
   "codemirror_mode": {
    "name": "ipython",
    "version": 3
   },
   "file_extension": ".py",
   "mimetype": "text/x-python",
   "name": "python",
   "nbconvert_exporter": "python",
   "pygments_lexer": "ipython3",
   "version": "3.8.6"
  }
 },
 "nbformat": 4,
 "nbformat_minor": 5
}
